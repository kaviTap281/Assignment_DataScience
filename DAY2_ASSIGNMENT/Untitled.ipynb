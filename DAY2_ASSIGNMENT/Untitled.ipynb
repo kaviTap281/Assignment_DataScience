{
 "cells": [
  {
   "cell_type": "markdown",
   "metadata": {},
   "source": [
    "# Question1"
   ]
  },
  {
   "cell_type": "code",
   "execution_count": null,
   "metadata": {},
   "outputs": [],
   "source": [
    "l = []\n",
    "for i in range(10):\n",
    "    l.append(i)"
   ]
  },
  {
   "cell_type": "markdown",
   "metadata": {},
   "source": [
    "# Question2"
   ]
  },
  {
   "cell_type": "code",
   "execution_count": null,
   "metadata": {},
   "outputs": [],
   "source": [
    "#LIST COMPREHENSION notebook created"
   ]
  },
  {
   "cell_type": "markdown",
   "metadata": {},
   "source": [
    "# Question3"
   ]
  },
  {
   "cell_type": "code",
   "execution_count": null,
   "metadata": {},
   "outputs": [],
   "source": [
    "n = int(input(\"Enter the number : \"))\n",
    "d = {}\n",
    "for i in range(1,n+1):\n",
    "    d.update({ i : i*i })\n",
    "\n",
    "print(\"Dictionary : \", d)"
   ]
  },
  {
   "cell_type": "markdown",
   "metadata": {},
   "source": [
    "# Question4"
   ]
  },
  {
   "cell_type": "code",
   "execution_count": null,
   "metadata": {},
   "outputs": [],
   "source": [
    "import math\n",
    "\n",
    "directions = dict()\n",
    "countUp, countDown, countLeft, countRight = 0,0,0,0\n",
    "move = int(input(\"Enter the number of directions : \"))\n",
    "\n",
    "for i in range(move):\n",
    "      key=input(\"\\nEnter direction (Left/right/up/down) : \")\n",
    "      value=input(\"Enter no. of steps : \")\n",
    "      directions.update({key: value})\n",
    "\n",
    "for counter in directions.keys():\n",
    "\tif (counter == 'up'):\n",
    "\t\tcountUp = int(directions[counter])\n",
    "\n",
    "\telif(counter == 'down'): \n",
    "\t\tcountDown = int(directions[counter])\n",
    "\n",
    "\telif(counter == 'left'): \n",
    "\t\tcountLeft = int(directions[counter])\n",
    "\n",
    "\telif(counter == 'right'): \n",
    "\t\tcountRight = int(directions[counter])\n",
    "\n",
    "\tprint(counter, directions[counter])\n",
    "\n",
    "x = countRight - countLeft\n",
    "y = countUp - countDown\n",
    "\n",
    "c = round(math.sqrt(x**2 + y**2))\n",
    "    \n",
    "print(\"\\nThe distance from original position to current position is : \", c)"
   ]
  }
 ],
 "metadata": {
  "kernelspec": {
   "display_name": "Python 3",
   "language": "python",
   "name": "python3"
  },
  "language_info": {
   "codemirror_mode": {
    "name": "ipython",
    "version": 3
   },
   "file_extension": ".py",
   "mimetype": "text/x-python",
   "name": "python",
   "nbconvert_exporter": "python",
   "pygments_lexer": "ipython3",
   "version": "3.8.3"
  }
 },
 "nbformat": 4,
 "nbformat_minor": 4
}
