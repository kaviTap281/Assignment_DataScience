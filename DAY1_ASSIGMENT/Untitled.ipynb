{
 "cells": [
  {
   "cell_type": "markdown",
   "metadata": {},
   "source": [
    "# Question1 :\n",
    "Ans: A. RAINBOW"
   ]
  },
  {
   "cell_type": "markdown",
   "metadata": {},
   "source": [
    "# Question2 :"
   ]
  },
  {
   "cell_type": "code",
   "execution_count": 1,
   "metadata": {},
   "outputs": [
    {
     "name": "stdout",
     "output_type": "stream",
     "text": [
      "LETS UPGRADE\n"
     ]
    }
   ],
   "source": [
    "#print LETS UPGRADE\n",
    "\n",
    "print('LETS UPGRADE')"
   ]
  },
  {
   "cell_type": "code",
   "execution_count": 3,
   "metadata": {},
   "outputs": [
    {
     "name": "stdout",
     "output_type": "stream",
     "text": [
      "LETS UPGRADE\n"
     ]
    }
   ],
   "source": [
    "#can also be written as\n",
    "\n",
    "x = 'lets upgrade'\n",
    "print(x.upper())"
   ]
  },
  {
   "cell_type": "markdown",
   "metadata": {},
   "source": [
    "# Question3 and 4 :"
   ]
  },
  {
   "cell_type": "code",
   "execution_count": 32,
   "metadata": {},
   "outputs": [
    {
     "name": "stdout",
     "output_type": "stream",
     "text": [
      "150 Profit\n"
     ]
    }
   ],
   "source": [
    "#profit\n",
    "costprice = 100\n",
    "sellingprice = 150\n",
    "if costprice < sellingprice:\n",
    "    print(sellingprice,'Profit')\n",
    "elif costprice > sellingprice:\n",
    "    print(costprice,'Loss')\n",
    "else:\n",
    "    print('Neither')"
   ]
  },
  {
   "cell_type": "code",
   "execution_count": 33,
   "metadata": {},
   "outputs": [
    {
     "name": "stdout",
     "output_type": "stream",
     "text": [
      "200 Loss\n"
     ]
    }
   ],
   "source": [
    "#loss\n",
    "costprice = 200\n",
    "sellingprice = 100\n",
    "if costprice < sellingprice:\n",
    "    print(sellingprice,'Profit')\n",
    "elif costprice > sellingprice:\n",
    "    print(costprice,'Loss')\n",
    "else:\n",
    "    print('Neither')\n"
   ]
  },
  {
   "cell_type": "code",
   "execution_count": 34,
   "metadata": {},
   "outputs": [
    {
     "name": "stdout",
     "output_type": "stream",
     "text": [
      "Neither\n"
     ]
    }
   ],
   "source": [
    "#neither\n",
    "costprice = 60\n",
    "sellingprice = 60\n",
    "if costprice < sellingprice:\n",
    "    print(sellingprice,'Profit')\n",
    "elif costprice > sellingprice:\n",
    "    print(costprice,'Loss')\n",
    "else:\n",
    "    print('Neither')"
   ]
  },
  {
   "cell_type": "markdown",
   "metadata": {},
   "source": [
    "# Question 5:"
   ]
  },
  {
   "cell_type": "code",
   "execution_count": 48,
   "metadata": {},
   "outputs": [
    {
     "name": "stdout",
     "output_type": "stream",
     "text": [
      "20000\n"
     ]
    }
   ],
   "source": [
    "Rupees = 250\n",
    "Euro = Rupees * 80\n",
    "print(Euro)"
   ]
  },
  {
   "cell_type": "code",
   "execution_count": null,
   "metadata": {},
   "outputs": [],
   "source": []
  }
 ],
 "metadata": {
  "kernelspec": {
   "display_name": "Python 3",
   "language": "python",
   "name": "python3"
  },
  "language_info": {
   "codemirror_mode": {
    "name": "ipython",
    "version": 3
   },
   "file_extension": ".py",
   "mimetype": "text/x-python",
   "name": "python",
   "nbconvert_exporter": "python",
   "pygments_lexer": "ipython3",
   "version": "3.8.3"
  }
 },
 "nbformat": 4,
 "nbformat_minor": 4
}
